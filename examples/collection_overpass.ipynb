{
 "cells": [
  {
   "cell_type": "markdown",
   "metadata": {},
   "source": [
    "# OpenET DisALEXI\n",
    "## Collection \"Overpass\" Examples"
   ]
  },
  {
   "cell_type": "code",
   "execution_count": null,
   "metadata": {},
   "outputs": [],
   "source": [
    "import datetime\n",
    "import pprint\n",
    "\n",
    "import ee\n",
    "import pandas as pd\n",
    "\n",
    "from IPython.display import Image\n",
    "import openet.disalexi as model\n",
    "\n",
    "ee.Initialize()"
   ]
  },
  {
   "cell_type": "code",
   "execution_count": null,
   "metadata": {},
   "outputs": [],
   "source": [
    "ndvi_palette = ['#EFE7E1', '#003300']\n",
    "et_palette = [\n",
    "    'DEC29B', 'E6CDA1', 'EDD9A6', 'F5E4A9', 'FFF4AD', 'C3E683', '6BCC5C', \n",
    "    '3BB369', '20998F', '1C8691', '16678A', '114982', '0B2C7A']\n",
    "\n",
    "image_size = 768"
   ]
  },
  {
   "cell_type": "markdown",
   "metadata": {},
   "source": [
    "### Input parameters"
   ]
  },
  {
   "cell_type": "code",
   "execution_count": null,
   "metadata": {},
   "outputs": [],
   "source": [
    "collections = ['LANDSAT/LC08/C02/T1_L2']\n",
    "\n",
    "et_reference_source = 'projects/openet/assets/reference_et/california/cimis/daily/v1'\n",
    "et_reference_band = 'eto'\n",
    "et_reference_factor = 1.0\n",
    "et_reference_resample = 'bilinear'\n",
    "# et_reference_source = 'IDAHO_EPSCOR/GRIDMET'\n",
    "# et_reference_band = 'eto'\n",
    "# et_reference_factor = 0.85\n",
    "# et_reference_resample = 'bilinear'\n",
    "\n",
    "# Date range you want to aggregate ET over\n",
    "# End date is inclusive (like filterDate() calls)\n",
    "start_date = '2017-07-01'\n",
    "end_date = '2017-08-01'\n",
    "\n",
    "# Only keep images with an average cloud cover less than\n",
    "# Cloud cover filter parameter is not being passed in (yet)\n",
    "cloud_cover = 70\n",
    "\n",
    "# Number of extra days (at start and end) to include in interpolation\n",
    "interp_days = 32\n",
    "# Interpolation method - currently only LINEAR is supported\n",
    "interp_method = 'LINEAR'\n",
    "\n",
    "interp_args = {\n",
    "    'interp_source': et_reference_source,\n",
    "    'interp_band': et_reference_band,\n",
    "    'interp_resample': et_reference_factor,\n",
    "    # 'interp_factor': et_reference_factor,\n",
    "}\n",
    "\n",
    "test_xy = [-121.5265, 38.7399]\n",
    "test_point = ee.Geometry.Point(test_xy)\n",
    "\n",
    "study_area = ee.Geometry.Rectangle(\n",
    "    test_xy[0] - 0.08, test_xy[1] - 0.04, \n",
    "    test_xy[0] + 0.08, test_xy[1] + 0.04)\n",
    "study_region = study_area.bounds(1, 'EPSG:4326')\n",
    "study_crs = 'EPSG:32610'\n",
    "\n",
    "# # Hard code the study area and CRS\n",
    "# study_area = ee.Geometry.Rectangle(-122.00, 38.50, -121.00, 39.0)\n",
    "# study_region = study_area.bounds(1, 'EPSG:4326').coordinates().getInfo()\n",
    "# study_crs = 'EPSG:32610'"
   ]
  },
  {
   "cell_type": "markdown",
   "metadata": {},
   "source": [
    "### Landsat 8 Collection 2 SR Image Collection"
   ]
  },
  {
   "cell_type": "code",
   "execution_count": null,
   "metadata": {},
   "outputs": [],
   "source": [
    "model_obj = model.Collection(\n",
    "    collections=collections,\n",
    "    start_date=start_date,\n",
    "    end_date=end_date,\n",
    "    geometry=test_point,\n",
    "    cloud_cover_max=70,\n",
    "    model_args={\n",
    "        'et_reference_source': et_reference_source, \n",
    "        'et_reference_band': et_reference_band,\n",
    "        'et_reference_factor': et_reference_factor,\n",
    "        'et_reference_resample': et_reference_resample,\n",
    "    },\n",
    "    # filter_args={},\n",
    ")\n",
    "pprint.pprint(model_obj.get_image_ids())"
   ]
  },
  {
   "cell_type": "code",
   "execution_count": null,
   "metadata": {},
   "outputs": [],
   "source": [
    "def get_region_df(info):\n",
    "    \"\"\"Convert the output of getRegions to a pandas dataframe\"\"\"\n",
    "    col_dict = {}\n",
    "    info_dict = {}\n",
    "    for i, k in enumerate(info[0][4:]):\n",
    "        col_dict[k] = i+4\n",
    "        info_dict[k] = {}\n",
    "        \n",
    "    for row in info[1:]:\n",
    "        date = datetime.datetime.utcfromtimestamp(row[3] / 1000.0).strftime('%Y-%m-%d')\n",
    "        for k, v in col_dict.items():\n",
    "            info_dict[k][date] = row[col_dict[k]]\n",
    "            \n",
    "    return pd.DataFrame.from_dict(info_dict)"
   ]
  },
  {
   "cell_type": "markdown",
   "metadata": {},
   "source": [
    "## \"Overpass\" Collection"
   ]
  },
  {
   "cell_type": "code",
   "execution_count": null,
   "metadata": {},
   "outputs": [],
   "source": [
    "overpass_coll = model_obj.overpass(variables=['ndvi', 'et', 'et_reference', 'et_fraction'])"
   ]
  },
  {
   "cell_type": "code",
   "execution_count": null,
   "metadata": {},
   "outputs": [],
   "source": [
    "overpass_df = get_region_df(overpass_coll.getRegion(test_point, scale=30).getInfo())\n",
    "pprint.pprint(overpass_df)\n",
    "print('')\n",
    "pprint.pprint(overpass_df[['et', 'et_reference']].sum())"
   ]
  },
  {
   "cell_type": "markdown",
   "metadata": {},
   "source": [
    "### NDVI"
   ]
  },
  {
   "cell_type": "code",
   "execution_count": null,
   "metadata": {},
   "outputs": [],
   "source": [
    "image_url = ee.Image(overpass_coll.select(['ndvi']).mean())\\\n",
    "    .reproject(crs=study_crs, scale=30)\\\n",
    "    .getThumbURL({'min': -0.1, 'max': 0.9, 'palette': ','.join(ndvi_palette), \n",
    "                  'region': study_region, 'dimensions': image_size})\n",
    "Image(url=image_url, embed=True, format='png')"
   ]
  },
  {
   "cell_type": "markdown",
   "metadata": {},
   "source": [
    "### ET fraction"
   ]
  },
  {
   "cell_type": "code",
   "execution_count": null,
   "metadata": {},
   "outputs": [],
   "source": [
    "image_url = ee.Image(overpass_coll.select(['et_fraction']).mean())\\\n",
    "    .reproject(crs=study_crs, scale=30)\\\n",
    "    .getThumbURL({'min': 0.0, 'max': 1.2, 'palette': ','.join(et_palette), \n",
    "                  'region': study_region, 'dimensions': image_size})\n",
    "Image(url=image_url, embed=True, format='png')"
   ]
  },
  {
   "cell_type": "markdown",
   "metadata": {},
   "source": [
    "### Reference ET (from CIMIS)"
   ]
  },
  {
   "cell_type": "code",
   "execution_count": null,
   "metadata": {},
   "outputs": [],
   "source": [
    "image_url = ee.Image(overpass_coll.select(['et_reference']).mean())\\\n",
    "    .reproject(crs=study_crs, scale=30)\\\n",
    "    .getThumbURL({'min': 0.0, 'max': 12, 'palette': ','.join(et_palette), \n",
    "                  'region': study_region, 'dimensions': image_size})\n",
    "Image(url=image_url, embed=True, format='png')"
   ]
  },
  {
   "cell_type": "markdown",
   "metadata": {},
   "source": [
    "### ET"
   ]
  },
  {
   "cell_type": "code",
   "execution_count": null,
   "metadata": {},
   "outputs": [],
   "source": [
    "image_url = ee.Image(overpass_coll.select(['et']).mean())\\\n",
    "    .reproject(crs=study_crs, scale=30)\\\n",
    "    .getThumbURL({'min': 0.0, 'max': 12, 'palette': ','.join(et_palette), \n",
    "                  'region': study_region, 'dimensions': image_size})\n",
    "Image(url=image_url, embed=True, format='png')"
   ]
  },
  {
   "cell_type": "code",
   "execution_count": null,
   "metadata": {},
   "outputs": [],
   "source": []
  }
 ],
 "metadata": {
  "kernelspec": {
   "display_name": "Python 3 (ipykernel)",
   "language": "python",
   "name": "python3"
  },
  "language_info": {
   "codemirror_mode": {
    "name": "ipython",
    "version": 3
   },
   "file_extension": ".py",
   "mimetype": "text/x-python",
   "name": "python",
   "nbconvert_exporter": "python",
   "pygments_lexer": "ipython3",
   "version": "3.11.8"
  }
 },
 "nbformat": 4,
 "nbformat_minor": 4
}
