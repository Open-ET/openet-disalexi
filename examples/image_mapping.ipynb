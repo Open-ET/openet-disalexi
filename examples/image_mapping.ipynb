{
 "cells": [
  {
   "cell_type": "markdown",
   "metadata": {},
   "source": [
    "# OpenET DisALEXI\n",
    "## Image Mapping Examples\n",
    "This example shows how you could build an ET image collection by mapping the model image class over a GEE Landsat image collection."
   ]
  },
  {
   "cell_type": "code",
   "execution_count": null,
   "metadata": {},
   "outputs": [],
   "source": [
    "import pprint\n",
    "\n",
    "import ee\n",
    "\n",
    "from IPython.display import Image\n",
    "import openet.disalexi as model\n",
    "\n",
    "ee.Initialize()"
   ]
  },
  {
   "cell_type": "code",
   "execution_count": null,
   "metadata": {},
   "outputs": [],
   "source": [
    "ndvi_palette = ['#EFE7E1', '#003300']\n",
    "et_palette = [\n",
    "    'DEC29B', 'E6CDA1', 'EDD9A6', 'F5E4A9', 'FFF4AD', 'C3E683', '6BCC5C', \n",
    "    '3BB369', '20998F', '1C8691', '16678A', '114982', '0B2C7A']\n",
    "\n",
    "image_size = 768"
   ]
  },
  {
   "cell_type": "markdown",
   "metadata": {},
   "source": [
    "### Input parameters"
   ]
  },
  {
   "cell_type": "code",
   "execution_count": null,
   "metadata": {},
   "outputs": [],
   "source": [
    "collection_id = 'LANDSAT/LC08/C02/T1_L2'\n",
    "\n",
    "# Date range you want to aggregate ET over\n",
    "# End date is inclusive\n",
    "start_date = '2017-07-01'\n",
    "end_date = '2017-08-01'\n",
    "\n",
    "test_xy = [-121.5265, 38.7399]\n",
    "test_point = ee.Geometry.Point(test_xy)\n",
    "\n",
    "study_area = ee.Geometry.Rectangle(\n",
    "    test_xy[0] - 0.08, test_xy[1] - 0.04, \n",
    "    test_xy[0] + 0.08, test_xy[1] + 0.04)\n",
    "study_region = study_area.bounds(1, 'EPSG:4326')\n",
    "study_crs = 'EPSG:32610'\n",
    "\n",
    "# # Hard code the study area and CRS\n",
    "# study_area = ee.Geometry.Rectangle(-122.00, 38.50, -121.00, 39.0)\n",
    "# study_region = study_area.bounds(1, 'EPSG:4326').coordinates().getInfo()\n",
    "# study_crs = 'EPSG:32610'"
   ]
  },
  {
   "cell_type": "markdown",
   "metadata": {},
   "source": [
    "### Landsat 8 Collection 2 SR Images\n",
    "Build the input image collection"
   ]
  },
  {
   "cell_type": "code",
   "execution_count": null,
   "metadata": {},
   "outputs": [],
   "source": [
    "landsat_coll = ee.ImageCollection(collection_id)\\\n",
    "    .filterDate(start_date, end_date)\\\n",
    "    .filterBounds(test_point)\n",
    "\n",
    "# Check which images are in the collection\n",
    "pprint.pprint(list(landsat_coll.aggregate_histogram('system:index').getInfo().keys()))"
   ]
  },
  {
   "cell_type": "code",
   "execution_count": null,
   "metadata": {},
   "outputs": [],
   "source": [
    "image_url = landsat_coll.first().select([3, 2, 1])\\\n",
    "    .multiply(0.0000275).add(-0.2) \\\n",
    "    .getThumbURL({'min': 0.0, 'max': 0.3, 'gamma': 1.25, \n",
    "                  'region': study_region, 'dimensions': image_size})\n",
    "Image(image_url, embed=True, format='png')"
   ]
  },
  {
   "cell_type": "code",
   "execution_count": null,
   "metadata": {},
   "outputs": [],
   "source": [
    "landsat_cs = 30\n",
    "landsat_crs = ee.Image(landsat_coll.first()).select('SR_B3').projection().getInfo()['crs']\n",
    "landsat_region = ee.Image(landsat_coll.first()).geometry().bounds(1, 'EPSG:4326').coordinates().getInfo()\n",
    "# landsat_dt = ee.Date(landsat_img.get('system:time_start'))"
   ]
  },
  {
   "cell_type": "markdown",
   "metadata": {},
   "source": [
    "### ET Image Collection"
   ]
  },
  {
   "cell_type": "code",
   "execution_count": null,
   "metadata": {},
   "outputs": [],
   "source": [
    "def compute_et(image):\n",
    "    \"\"\"Return an ET image for each input Landsat 8 C2 SR image\"\"\"\n",
    "    return model.Image.from_landsat_c02_l2(image).et\n",
    "    \n",
    "# Build the DisALEXI model for each image then compute and return ET\n",
    "et_coll = ee.ImageCollection(landsat_coll.map(compute_et))\n",
    "\n",
    "# pprint.pprint(ee.Image(et_coll.first()).getInfo())"
   ]
  },
  {
   "cell_type": "code",
   "execution_count": null,
   "metadata": {},
   "outputs": [],
   "source": [
    "# Note, a thumbnail can't be generated for a full Landsat image at scale=30\n",
    "image_url = ee.Image(et_coll.mean())\\\n",
    "    .getThumbURL({'min': 0, 'max': 12, 'palette': et_palette, \n",
    "                  'region': study_region, 'dimensions': image_size})\n",
    "#     .reproject(crs=landsat_crs, scale=100)\\\n",
    "print(image_url)\n",
    "Image(url=image_url, embed=True, format='png')"
   ]
  },
  {
   "cell_type": "markdown",
   "metadata": {},
   "source": [
    "### Custom Image Class Parameters \n",
    "It is also possible to pass custom parameter to the Image class as long as they are the same for all images."
   ]
  },
  {
   "cell_type": "code",
   "execution_count": null,
   "metadata": {},
   "outputs": [],
   "source": [
    "def custom_et(image):\n",
    "    image_obj = model.Image.from_landsat_c02_l2(\n",
    "        image, \n",
    "        # tdiff_threshold=1,\n",
    "    )\n",
    "    return image_obj.et\n",
    "    \n",
    "# Build the DisALEXI model for each image then compute and return ET\n",
    "et_coll = ee.ImageCollection(landsat_coll.map(custom_et))"
   ]
  },
  {
   "cell_type": "code",
   "execution_count": null,
   "metadata": {},
   "outputs": [],
   "source": [
    "image_url = ee.Image(et_coll.mean())\\\n",
    "    .getThumbURL({'min': 0, 'max': 12, 'palette': et_palette, \n",
    "                  'region': study_region, 'dimensions': image_size})\n",
    "#     .reproject(crs=landsat_crs, scale=100)\n",
    "# print(image_url)\n",
    "Image(url=image_url, embed=True, format='png')"
   ]
  },
  {
   "cell_type": "markdown",
   "metadata": {},
   "source": [
    "### Map the calculate method over the Landsat collection"
   ]
  },
  {
   "cell_type": "code",
   "execution_count": null,
   "metadata": {},
   "outputs": [],
   "source": [
    "def compute_vars(image):\n",
    "    \"\"\"Return an ET image for each input Landsat 8 C2 SR image\"\"\"\n",
    "    return model.Image.from_landsat_c02_l2(image).calculate(['et'])\n",
    "    \n",
    "# Build the DisALEXI model for each image then compute and return ET\n",
    "vars_coll = ee.ImageCollection(landsat_coll.map(compute_vars))\n",
    "\n",
    "# pprint.pprint(ee.Image(et_coll.first()).getInfo())"
   ]
  },
  {
   "cell_type": "code",
   "execution_count": null,
   "metadata": {},
   "outputs": [],
   "source": [
    "image_url = ee.Image(vars_coll.select(['et']).mean())\\\n",
    "    .reproject(crs=landsat_crs, scale=30)\\\n",
    "    .getThumbURL({'min': 0, 'max': 12, 'palette': et_palette, \n",
    "                  'region': study_region, 'dimensions': image_size})\n",
    "Image(url=image_url, embed=True, format='png')"
   ]
  },
  {
   "cell_type": "code",
   "execution_count": null,
   "metadata": {},
   "outputs": [],
   "source": []
  },
  {
   "cell_type": "code",
   "execution_count": null,
   "metadata": {},
   "outputs": [],
   "source": []
  }
 ],
 "metadata": {
  "kernelspec": {
   "display_name": "Python 3 (ipykernel)",
   "language": "python",
   "name": "python3"
  },
  "language_info": {
   "codemirror_mode": {
    "name": "ipython",
    "version": 3
   },
   "file_extension": ".py",
   "mimetype": "text/x-python",
   "name": "python",
   "nbconvert_exporter": "python",
   "pygments_lexer": "ipython3",
   "version": "3.11.8"
  }
 },
 "nbformat": 4,
 "nbformat_minor": 4
}
