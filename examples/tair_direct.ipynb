{
 "cells": [
  {
   "cell_type": "code",
   "execution_count": 1,
   "id": "619ea534-a711-4150-9458-47ddf19a4f1b",
   "metadata": {},
   "outputs": [],
   "source": [
    "import pprint\n",
    "\n",
    "import ee\n",
    "# import geemap\n",
    "\n",
    "import openet.disalexi\n",
    "\n",
    "ee.Initialize()"
   ]
  },
  {
   "cell_type": "code",
   "execution_count": 2,
   "id": "af6031eb-eced-44b4-b4ad-7a6d877837b5",
   "metadata": {},
   "outputs": [],
   "source": [
    "# Washington image\n",
    "image_id = 'LANDSAT/LC08/C02/T1_L2/LC08_043028_20220808' \n",
    "good_xy = [-117.48, 46.32]\n",
    "bad_xy = [-117.56, 46.28]\n",
    "\n",
    "\n",
    "# image_id = 'LANDSAT/LC09/C02/T1_L2/LC09_032032_20220702'\n",
    "# good_xy = [-102.84, 40.72]\n",
    "# bad_xy = [-102.84, 40.68]\n",
    "\n",
    "landsat_img = ee.Image(image_id)\n",
    "image_dt = ee.Date(landsat_img.get('system:time_start')).update(hour=0, minute=0, second=0)"
   ]
  },
  {
   "cell_type": "code",
   "execution_count": 3,
   "id": "ac34e912-e148-42f8-9d12-a0d91ba2645a",
   "metadata": {},
   "outputs": [],
   "source": [
    "# ALEXI stuff\n",
    "alexi_coll_id = 'projects/ee-tulipyangyun-2/assets/alexi/ALEXI_V006'\n",
    "alexi_mask_id = 'projects/earthengine-legacy/assets/projects/disalexi/alexi/conus_v004_mask'\n",
    "alexi_mask = ee.Image(alexi_mask_id).double().multiply(0)\n",
    "alexi_geo = [0.04, 0.0, -125.02, 0.0, -0.04, 49.78]\n",
    "alexi_cs = 0.04\n",
    "alexi_x, alexi_y = -125.02, 49.78\n",
    "alexi_crs = 'EPSG:4326'"
   ]
  },
  {
   "cell_type": "code",
   "execution_count": 4,
   "id": "8cec3a2f-ad6a-470d-9b04-35f6576ae0bd",
   "metadata": {},
   "outputs": [],
   "source": [
    "def point_image_value(image, xy, scale=1000):\n",
    "    \"\"\"Extract the output value from a calculation at a point\"\"\"\n",
    "    return (\n",
    "        ee.Image(image)\n",
    "        .reduceRegion(\n",
    "            reducer=ee.Reducer.first(), geometry=ee.Geometry.Point(xy), \n",
    "            crs=alexi_crs, crsTransform=alexi_geo,\n",
    "            # scale=scale,\n",
    "        )\n",
    "        .getInfo()\n",
    "    )"
   ]
  },
  {
   "cell_type": "code",
   "execution_count": 5,
   "id": "55aca848-8c1c-40ea-b018-5b509c0191bf",
   "metadata": {},
   "outputs": [],
   "source": [
    "disalexi_obj = openet.disalexi.Image.from_image_id(\n",
    "    image_id,\n",
    "    alexi_source = 'projects/ee-tulipyangyun-2/assets/alexi/ALEXI_V006',\n",
    "    lai_source = 'openet-landsat-lai',\n",
    "    tir_source = 'projects/openet/assets/lst/landsat/c02',\n",
    "    elevation_source = 'USGS/SRTMGL1_003',\n",
    "    landcover_source = 'USGS/NLCD_RELEASES/2019_REL/NLCD',\n",
    "    air_pres_source = 'CFSR',\n",
    "    air_temp_source = 'CFSR',\n",
    "    rs_daily_source = 'CFSR',\n",
    "    rs_hourly_source = 'CFSR',\n",
    "    vapor_pre_source = 'CFSR',\n",
    "    wind_speed_source = 'CFSR',\n",
    "    stability_iterations = 10,\n",
    "    albedo_iterations = 10,\n",
    "    et_min = 0,\n",
    ")\n",
    "# print(disalexi_obj)"
   ]
  },
  {
   "cell_type": "code",
   "execution_count": null,
   "id": "a1e06377-af56-4118-93dd-cd86f5da676d",
   "metadata": {},
   "outputs": [],
   "source": []
  },
  {
   "cell_type": "code",
   "execution_count": 6,
   "id": "9f616d91-30a4-47a5-a59d-d5e8f60f64d7",
   "metadata": {},
   "outputs": [
    {
     "name": "stdout",
     "output_type": "stream",
     "text": [
      "{'ta_initial': 289}\n",
      "{'ta_initial': 268}\n"
     ]
    }
   ],
   "source": [
    "# Check the Ta initial (direct) values computed from the meteorology\n",
    "# Why is the direct value so low for the bad point?\n",
    "ta_init_img = disalexi_obj.ta_coarse_initial()\n",
    "pprint.pprint(point_image_value(ta_init_img, good_xy))\n",
    "pprint.pprint(point_image_value(ta_init_img, bad_xy))\n"
   ]
  },
  {
   "cell_type": "code",
   "execution_count": 7,
   "id": "61c50615-ca79-4cd7-ba95-9dbd082cd7cf",
   "metadata": {},
   "outputs": [
    {
     "name": "stdout",
     "output_type": "stream",
     "text": [
      "{'step_00_bias': -2.694891502435842,\n",
      " 'step_00_ta': 269,\n",
      " 'step_01_bias': -2.616300575534045,\n",
      " 'step_01_ta': 277,\n",
      " 'step_02_bias': -2.4743902468297536,\n",
      " 'step_02_ta': 282,\n",
      " 'step_03_bias': -1.9756256142209974,\n",
      " 'step_03_ta': 285,\n",
      " 'step_04_bias': -1.5006476815464556,\n",
      " 'step_04_ta': 287,\n",
      " 'step_05_bias': -1.2440787243142921,\n",
      " 'step_05_ta': 288,\n",
      " 'step_06_bias': -0.9605537860193898,\n",
      " 'step_06_ta': 289,\n",
      " 'step_07_bias': -0.6792622869704026,\n",
      " 'step_07_ta': 290,\n",
      " 'step_08_bias': -0.41291483070050816,\n",
      " 'step_08_ta': 291,\n",
      " 'step_09_bias': 0.10424604231675838,\n",
      " 'step_09_ta': 293,\n",
      " 'step_10_bias': 0.9495330391682941,\n",
      " 'step_10_ta': 296,\n",
      " 'step_11_bias': 2.3810347092022917,\n",
      " 'step_11_ta': 301,\n",
      " 'step_12_bias': 3.8915638468334657,\n",
      " 'step_12_ta': 309}\n",
      "{'step_00_bias': -2.7481478087062747,\n",
      " 'step_00_ta': 248,\n",
      " 'step_01_bias': -2.7471607765800465,\n",
      " 'step_01_ta': 256,\n",
      " 'step_02_bias': -2.6986033445601563,\n",
      " 'step_02_ta': 261,\n",
      " 'step_03_bias': -2.6278144066762334,\n",
      " 'step_03_ta': 264,\n",
      " 'step_04_bias': -2.575524477945643,\n",
      " 'step_04_ta': 266,\n",
      " 'step_05_bias': -2.5509554041817872,\n",
      " 'step_05_ta': 267,\n",
      " 'step_06_bias': -2.525792345722943,\n",
      " 'step_06_ta': 268,\n",
      " 'step_07_bias': -2.499271933409259,\n",
      " 'step_07_ta': 269,\n",
      " 'step_08_bias': -2.473352111878005,\n",
      " 'step_08_ta': 270,\n",
      " 'step_09_bias': -2.417518754531873,\n",
      " 'step_09_ta': 272,\n",
      " 'step_10_bias': -2.325108853909833,\n",
      " 'step_10_ta': 275,\n",
      " 'step_11_bias': -2.075045156911635,\n",
      " 'step_11_ta': 280,\n",
      " 'step_12_bias': 0.02325412019285622,\n",
      " 'step_12_ta': 288}\n"
     ]
    }
   ],
   "source": [
    "# Generate a mosaic of Ta values from the initial image\n",
    "ta_new_mosaic_img = disalexi_obj.ta_mosaic(\n",
    "    ta_init_img, \n",
    "    ta_offsets=[-20, -12, -7, -4, -2, -1, 0, 1, 2, 4, 7, 12, 20]\n",
    ")\n",
    "pprint.pprint(point_image_value(ta_new_mosaic_img, good_xy))\n",
    "pprint.pprint(point_image_value(ta_new_mosaic_img, bad_xy))\n"
   ]
  },
  {
   "cell_type": "code",
   "execution_count": 8,
   "id": "1e1fdf3b-d8aa-4b98-8e28-b1f1915c032f",
   "metadata": {},
   "outputs": [
    {
     "name": "stdout",
     "output_type": "stream",
     "text": [
      "{'bias_a': -0.41291483070050816,\n",
      " 'bias_b': 0.10424604231675838,\n",
      " 'ta_a': 291,\n",
      " 'ta_b': 293,\n",
      " 'ta_interp': 292.6}\n",
      "{'bias_a': -2.075045156911635,\n",
      " 'bias_b': 0.02325412019285622,\n",
      " 'ta_a': 280,\n",
      " 'ta_b': 288,\n",
      " 'ta_interp': 287.9}\n"
     ]
    }
   ],
   "source": [
    "# Check if the ta_mosaic_interpolate() function works on the new mosaic image\n",
    "ta_new_interp_img = openet.disalexi.ta_mosaic_interpolate(ta_new_mosaic_img)\n",
    "pprint.pprint(point_image_value(ta_new_interp_img, good_xy))\n",
    "pprint.pprint(point_image_value(ta_new_interp_img, bad_xy))\n"
   ]
  },
  {
   "cell_type": "code",
   "execution_count": 9,
   "id": "769fa1f7-56ee-4b91-b3de-6f879c60dfd4",
   "metadata": {},
   "outputs": [
    {
     "name": "stdout",
     "output_type": "stream",
     "text": [
      "{'bias_a': -0.41291483070050816,\n",
      " 'bias_b': 0.10424604231675838,\n",
      " 'ta_a': 291,\n",
      " 'ta_b': 293,\n",
      " 'ta_initial': 289,\n",
      " 'ta_interp': 292.6}\n",
      "{'bias_a': -2.075045156911635,\n",
      " 'bias_b': 0.02325412019285622,\n",
      " 'ta_a': 280,\n",
      " 'ta_b': 288,\n",
      " 'ta_initial': 268,\n",
      " 'ta_interp': 287.9}\n"
     ]
    }
   ],
   "source": [
    "# Try calling the ta_coarse function directly\n",
    "ta_coarse_img = disalexi_obj.ta_coarse()\n",
    "pprint.pprint(point_image_value(ta_coarse_img, good_xy))\n",
    "pprint.pprint(point_image_value(ta_coarse_img, bad_xy))\n"
   ]
  },
  {
   "cell_type": "code",
   "execution_count": null,
   "id": "07ca6810-793c-46fd-8d9f-2fe0dcce4f6f",
   "metadata": {},
   "outputs": [],
   "source": []
  },
  {
   "cell_type": "code",
   "execution_count": 10,
   "id": "f9cf3ab1-7d2d-4cd1-b554-1c20cc0e3f29",
   "metadata": {},
   "outputs": [
    {
     "name": "stdout",
     "output_type": "stream",
     "text": [
      "{'step_0_bias': -2.772726993560791,\n",
      " 'step_0_ta': 253,\n",
      " 'step_10_bias': 6.795235687099801,\n",
      " 'step_10_ta': 353,\n",
      " 'step_1_bias': -2.7471981149715003,\n",
      " 'step_1_ta': 263,\n",
      " 'step_2_bias': -2.659191618786192,\n",
      " 'step_2_ta': 273,\n",
      " 'step_3_bias': -2.4135402624952227,\n",
      " 'step_3_ta': 283,\n",
      " 'step_4_bias': -0.01590148354443599,\n",
      " 'step_4_ta': 293,\n",
      " 'step_5_bias': 2.708105777565797,\n",
      " 'step_5_ta': 303,\n",
      " 'step_6_bias': 4.555698124452835,\n",
      " 'step_6_ta': 313,\n",
      " 'step_7_bias': 5.7840133920186485,\n",
      " 'step_7_ta': 323,\n",
      " 'step_8_bias': 6.268222685163138,\n",
      " 'step_8_ta': 333,\n",
      " 'step_9_bias': 6.543105732086612,\n",
      " 'step_9_ta': 343}\n",
      "{'step_0_bias': -2.7487878646850588,\n",
      " 'step_0_ta': 252,\n",
      " 'step_10_bias': 7.704137837595062,\n",
      " 'step_10_ta': 352,\n",
      " 'step_1_bias': -2.6806368854094056,\n",
      " 'step_1_ta': 262,\n",
      " 'step_2_bias': -2.4468619537934555,\n",
      " 'step_2_ta': 272,\n",
      " 'step_3_bias': -1.8609173427616161,\n",
      " 'step_3_ta': 282,\n",
      " 'step_4_bias': 1.1440170352924244,\n",
      " 'step_4_ta': 292,\n",
      " 'step_5_bias': 3.847881442367372,\n",
      " 'step_5_ta': 302,\n",
      " 'step_6_bias': 5.512743370264606,\n",
      " 'step_6_ta': 312,\n",
      " 'step_7_bias': 6.762071151995035,\n",
      " 'step_7_ta': 322,\n",
      " 'step_8_bias': 7.159725558948451,\n",
      " 'step_8_ta': 332,\n",
      " 'step_9_bias': 7.444309037518452,\n",
      " 'step_9_ta': 342}\n"
     ]
    }
   ],
   "source": [
    "# Check the original Ta 10k values\n",
    "ta_10k_coll_id = 'projects/openet/assets/disalexi/tair/conus_v006_10k'\n",
    "ta_10k_coll = ee.ImageCollection(ta_10k_coll_id)\n",
    "ta_10k_img = ta_10k_coll.filterMetadata('image_id', 'equals', image_id).first()\n",
    "pprint.pprint(point_image_value(ta_10k_img, good_xy))\n",
    "pprint.pprint(point_image_value(ta_10k_img, bad_xy))\n"
   ]
  },
  {
   "cell_type": "code",
   "execution_count": 11,
   "id": "232c59a1-1434-41da-9f6c-776000c7f42a",
   "metadata": {},
   "outputs": [
    {
     "name": "stdout",
     "output_type": "stream",
     "text": [
      "{'ta': 293}\n",
      "{'ta': 292}\n"
     ]
    }
   ],
   "source": [
    "# Check if the ta_mosaic_min_bias() function works on the existing 10k image\n",
    "ta_min_bias_img = openet.disalexi.ta_mosaic_min_bias(ta_10k_img)\n",
    "pprint.pprint(point_image_value(ta_min_bias_img, good_xy))\n",
    "pprint.pprint(point_image_value(ta_min_bias_img, bad_xy))\n"
   ]
  },
  {
   "cell_type": "code",
   "execution_count": 12,
   "id": "ea2ab04e-a108-43b9-9c2b-524cebcc26e4",
   "metadata": {},
   "outputs": [
    {
     "name": "stdout",
     "output_type": "stream",
     "text": [
      "{'bias_a': -0.01590148354443599,\n",
      " 'bias_b': 2.708105777565797,\n",
      " 'ta_a': 293,\n",
      " 'ta_b': 303,\n",
      " 'ta_interp': 293.1}\n",
      "{'bias_a': -1.8609173427616161,\n",
      " 'bias_b': 1.1440170352924244,\n",
      " 'ta_a': 282,\n",
      " 'ta_b': 292,\n",
      " 'ta_interp': 288.2}\n"
     ]
    }
   ],
   "source": [
    "# Check if the ta_mosaic_interpolate() function works on the existing 10k image\n",
    "ta_10k_interp_img = openet.disalexi.ta_mosaic_interpolate(ta_10k_img)\n",
    "pprint.pprint(point_image_value(ta_10k_interp_img, good_xy))\n",
    "pprint.pprint(point_image_value(ta_10k_interp_img, bad_xy))\n"
   ]
  },
  {
   "cell_type": "code",
   "execution_count": null,
   "id": "7dab8f38-8f0f-4a5d-8506-5bf7059acd2b",
   "metadata": {},
   "outputs": [],
   "source": []
  },
  {
   "cell_type": "code",
   "execution_count": 13,
   "id": "44ee3bc7-1645-480b-80d7-9e68cb466602",
   "metadata": {},
   "outputs": [
    {
     "name": "stdout",
     "output_type": "stream",
     "text": [
      "{'ta': 303}\n",
      "{'ta': 302}\n",
      "{'temperature': 303.1863216802033}\n",
      "{'temperature': 302.99830490086805}\n"
     ]
    }
   ],
   "source": [
    "# Check the meteorology values\n",
    "ta_nldas_coll = (\n",
    "    ee.ImageCollection('NASA/NLDAS/FORA0125_H002')\n",
    "    .filterDate(image_dt, image_dt.advance(1, 'day'))\n",
    "    .select(['temperature'])\n",
    ")\n",
    "# Pulling maximum air temperature instead of 0 UTC\n",
    "ta_nldas_img = ee.Image(ta_nldas_coll.reduce(ee.Reducer.max())).add(273.15).floor()\n",
    "ta_nldas_img = alexi_mask.add(ta_nldas_img).rename(['ta'])\n",
    "print(point_image_value(ta_nldas_img, good_xy))\n",
    "print(point_image_value(ta_nldas_img, bad_xy))\n",
    "\n",
    "\n",
    "ta_source_coll_id = 'projects/disalexi/meteo_data/airtemperature/global_v001_3hour'\n",
    "ta_source_coll = ee.ImageCollection(ta_source_coll_id).select(['temperature'])\n",
    "ta_source_img = openet.disalexi.utils.interpolate(ta_source_coll, image_dt, timestep=3)\n",
    "ta_source_img = (\n",
    "    ee.Image(ta_source_img)\n",
    "    .resample('bicubic').reproject(crs=alexi_crs, crsTransform=alexi_geo)\n",
    "    #.resample('bilinear').reproject(crs=self.crs, crsTransform=self.transform)\n",
    ")\n",
    "print(point_image_value(ta_source_img, good_xy))\n",
    "print(point_image_value(ta_source_img, bad_xy))\n",
    "\n",
    "\n",
    "# ta_new_10k_img = disalexi_obj.ta_mosaic(ta_source_img, step_size=10, step_count=10)\n",
    "# pprint.pprint(point_image_value(ta_new_10k_img, good_xy))\n",
    "# pprint.pprint(point_image_value(ta_new_10k_img, bad_xy))\n"
   ]
  },
  {
   "cell_type": "code",
   "execution_count": 14,
   "id": "f1fa6c95-9d39-402e-8528-dbdaae42540e",
   "metadata": {},
   "outputs": [],
   "source": [
    "# # Check if the ta_mosaic_interpolate() function works on the existing 1k image\n",
    "# ta_10k_interp_img = openet.disalexi.ta_mosaic_interpolate(ta_new_10k_img)\n",
    "\n",
    "# pprint.pprint(point_image_value(ta_10k_interp_img, good_xy))\n",
    "# pprint.pprint(point_image_value(ta_10k_interp_img, bad_xy))\n"
   ]
  }
 ],
 "metadata": {
  "kernelspec": {
   "display_name": "Python 3 (ipykernel)",
   "language": "python",
   "name": "python3"
  },
  "language_info": {
   "codemirror_mode": {
    "name": "ipython",
    "version": 3
   },
   "file_extension": ".py",
   "mimetype": "text/x-python",
   "name": "python",
   "nbconvert_exporter": "python",
   "pygments_lexer": "ipython3",
   "version": "3.11.8"
  }
 },
 "nbformat": 4,
 "nbformat_minor": 5
}
