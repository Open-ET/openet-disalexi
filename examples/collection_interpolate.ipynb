{
 "cells": [
  {
   "cell_type": "markdown",
   "metadata": {},
   "source": [
    "# OpenET DisALEXI\n",
    "## Collection \"Interpolate\" Examples"
   ]
  },
  {
   "cell_type": "code",
   "execution_count": null,
   "metadata": {},
   "outputs": [],
   "source": [
    "import datetime\n",
    "import pprint\n",
    "\n",
    "import ee\n",
    "import pandas as pd\n",
    "\n",
    "from IPython.display import Image\n",
    "import openet.disalexi as model"
   ]
  },
  {
   "cell_type": "code",
   "execution_count": null,
   "metadata": {},
   "outputs": [],
   "source": [
    "ee.Initialize()"
   ]
  },
  {
   "cell_type": "markdown",
   "metadata": {},
   "source": [
    "## Input parameters"
   ]
  },
  {
   "cell_type": "code",
   "execution_count": null,
   "metadata": {},
   "outputs": [],
   "source": [
    "collections = ['LANDSAT/LC08/C02/T1_L2']\n",
    "\n",
    "et_reference_source = 'IDAHO_EPSCOR/GRIDMET'\n",
    "et_reference_band = 'eto'\n",
    "et_reference_factor = 1\n",
    "et_reference_resample = 'bilinear'\n",
    "\n",
    "# Date range you want to aggregate ET over\n",
    "# End date is inclusive (like filterDate() calls)\n",
    "start_date = '2017-07-11'\n",
    "end_date = '2017-07-21'\n",
    "# start_date = '2017-07-01'\n",
    "# end_date = '2017-08-01'\n",
    "\n",
    "# Only keep images with an average cloud cover less than\n",
    "# Cloud cover filter parameter is not being passed in (yet)\n",
    "cloud_cover = 70\n",
    "\n",
    "# Number of extra days (at start and end) to include in interpolation\n",
    "interp_days = 32\n",
    "\n",
    "# Interpolation method - currently only LINEAR is supported\n",
    "interp_method = 'LINEAR'\n",
    "\n",
    "interp_args = {\n",
    "    'interp_source': et_reference_source,\n",
    "    'interp_band': et_reference_band,\n",
    "    'interp_resample': et_reference_resample,\n",
    "    'interp_factor': et_reference_factor,\n",
    "}\n",
    "\n",
    "# Hard code the study area and CRS to the test point location\n",
    "# The region must be quite small in order to not have GEE memory errors or time outs\n",
    "test_xy = [-121.5265, 38.7399]\n",
    "test_point = ee.Geometry.Point(test_xy)\n",
    "study_area = ee.Geometry.Rectangle(test_xy[0] - 0.08, test_xy[1] - 0.04, test_xy[0] + 0.08, test_xy[1] + 0.04)\n",
    "region = study_area.bounds(1, 'EPSG:4326')\n",
    "crs = 'EPSG:32610'"
   ]
  },
  {
   "cell_type": "code",
   "execution_count": null,
   "metadata": {},
   "outputs": [],
   "source": [
    "image_size = 768\n",
    "landsat_cs = 30"
   ]
  },
  {
   "cell_type": "code",
   "execution_count": null,
   "metadata": {},
   "outputs": [],
   "source": [
    "ndvi_palette = ['#EFE7E1', '#003300']\n",
    "et_palette = [\n",
    "    'DEC29B', 'E6CDA1', 'EDD9A6', 'F5E4A9', 'FFF4AD', 'C3E683', '6BCC5C', \n",
    "    '3BB369', '20998F', '1C8691', '16678A', '114982', '0B2C7A']"
   ]
  },
  {
   "cell_type": "markdown",
   "metadata": {},
   "source": [
    "## Build the collection object"
   ]
  },
  {
   "cell_type": "code",
   "execution_count": null,
   "metadata": {},
   "outputs": [],
   "source": [
    "model_obj = model.Collection(\n",
    "    collections=collections,\n",
    "    start_date=start_date,\n",
    "    end_date=end_date,\n",
    "    geometry=test_point,\n",
    "    cloud_cover_max=70,\n",
    "    model_args={\n",
    "        'et_reference_source': et_reference_source, \n",
    "        'et_reference_band': et_reference_band,\n",
    "        'et_reference_factor': et_reference_factor,\n",
    "        'et_reference_resample': et_reference_resample,\n",
    "    },\n",
    ")"
   ]
  },
  {
   "cell_type": "markdown",
   "metadata": {},
   "source": [
    "This isn't returning the images used for interpolation.  Should it?"
   ]
  },
  {
   "cell_type": "code",
   "execution_count": null,
   "metadata": {},
   "outputs": [],
   "source": [
    "pprint.pprint(model_obj.get_image_ids())"
   ]
  },
  {
   "cell_type": "code",
   "execution_count": null,
   "metadata": {
    "jupyter": {
     "source_hidden": true
    }
   },
   "outputs": [],
   "source": [
    "def get_region_df(info):\n",
    "    \"\"\"Convert the output of getRegions to a pandas dataframe\"\"\"\n",
    "    col_dict = {}\n",
    "    info_dict = {}\n",
    "    for i, k in enumerate(info[0][4:]):\n",
    "        col_dict[k] = i+4\n",
    "        info_dict[k] = {}\n",
    "        \n",
    "    for row in info[1:]:\n",
    "        date = datetime.datetime.utcfromtimestamp(row[3] / 1000.0).strftime('%Y-%m-%d')\n",
    "        for k, v in col_dict.items():\n",
    "            info_dict[k][date] = row[col_dict[k]]\n",
    "            \n",
    "    return pd.DataFrame.from_dict(info_dict)"
   ]
  },
  {
   "cell_type": "markdown",
   "metadata": {},
   "source": [
    "## Interpolate Daily ET"
   ]
  },
  {
   "cell_type": "code",
   "execution_count": null,
   "metadata": {},
   "outputs": [],
   "source": [
    "et_daily_coll = model_obj.interpolate(\n",
    "    t_interval='daily', \n",
    "    variables=['et', 'et_reference', 'et_fraction'], \n",
    "    interp_method=interp_method,\n",
    "    interp_days=interp_days,\n",
    "    **interp_args,\n",
    ")\n",
    "# et_daily_df = get_region_df(et_daily_coll.getRegion(test_point, scale=30).getInfo())\n",
    "# pprint.pprint(et_daily_df)\n",
    "# print('')\n",
    "# pprint.pprint(et_daily_df[['et', 'et_reference']].sum())"
   ]
  },
  {
   "cell_type": "markdown",
   "metadata": {},
   "source": [
    "## Interpolate Monthly ET"
   ]
  },
  {
   "cell_type": "code",
   "execution_count": null,
   "metadata": {},
   "outputs": [],
   "source": [
    "et_monthly_coll = model_obj.interpolate(\n",
    "    t_interval='monthly', \n",
    "    variables=['et', 'et_reference', 'et_fraction'], \n",
    "    interp_method=interp_method,\n",
    "    interp_days=interp_days,\n",
    "    **interp_args,\n",
    ")\n",
    "# et_monthly_df = get_region_df(et_monthly_coll.getRegion(test_point, scale=30).getInfo())\n",
    "# pprint.pprint(et_monthly_df)"
   ]
  },
  {
   "cell_type": "markdown",
   "metadata": {},
   "source": [
    "## Sum of Daily ET (for one month)"
   ]
  },
  {
   "cell_type": "code",
   "execution_count": null,
   "metadata": {},
   "outputs": [],
   "source": [
    "image_url = (\n",
    "    ee.Image(et_daily_coll.select(['et']).sum())\n",
    "    .reproject(crs=study_crs, scale=30)\n",
    "    .getThumbURL({'min': 0.0, 'max': 300, 'palette': et_palette, 'region': study_region, 'dimensions': image_size})\n",
    ")\n",
    "Image(url=image_url, embed=True, format='png')"
   ]
  },
  {
   "cell_type": "markdown",
   "metadata": {},
   "source": [
    "## Monthly ET (for one month)"
   ]
  },
  {
   "cell_type": "code",
   "execution_count": null,
   "metadata": {},
   "outputs": [],
   "source": [
    "image_url = (\n",
    "    ee.Image(et_monthly_coll.select(['et']).sum())\n",
    "    .reproject(crs=study_crs, scale=100)\n",
    "    .getThumbURL({'min': 0.0, 'max': 300, 'palette': et_palette, 'region': study_region, 'dimensions': image_size})\n",
    ")\n",
    "Image(url=image_url, embed=True, format='png')"
   ]
  },
  {
   "cell_type": "markdown",
   "metadata": {},
   "source": [
    "## Monthly ETr (for one month)"
   ]
  },
  {
   "cell_type": "code",
   "execution_count": null,
   "metadata": {},
   "outputs": [],
   "source": [
    "image_url = (\n",
    "    ee.Image(et_monthly_coll.select(['et_reference']).sum())\n",
    "    .reproject(crs=study_crs, scale=100)\n",
    "    .getThumbURL({'min': 0.0, 'max': 300, 'palette': et_palette, 'region': study_region, 'dimensions': image_size})\n",
    ")\n",
    "Image(url=image_url, embed=True, format='png')"
   ]
  },
  {
   "cell_type": "code",
   "execution_count": null,
   "metadata": {},
   "outputs": [],
   "source": []
  },
  {
   "cell_type": "code",
   "execution_count": null,
   "metadata": {},
   "outputs": [],
   "source": []
  }
 ],
 "metadata": {
  "kernelspec": {
   "display_name": "Python 3 (ipykernel)",
   "language": "python",
   "name": "python3"
  },
  "language_info": {
   "codemirror_mode": {
    "name": "ipython",
    "version": 3
   },
   "file_extension": ".py",
   "mimetype": "text/x-python",
   "name": "python",
   "nbconvert_exporter": "python",
   "pygments_lexer": "ipython3",
   "version": "3.11.9"
  }
 },
 "nbformat": 4,
 "nbformat_minor": 4
}
