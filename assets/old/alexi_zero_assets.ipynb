{
 "cells": [
  {
   "cell_type": "code",
   "execution_count": 14,
   "id": "7fa0ed72",
   "metadata": {
    "pycharm": {
     "name": "#%%\n"
    }
   },
   "outputs": [],
   "source": [
    "import datetime\n",
    "import pprint\n",
    "\n",
    "import ee\n",
    "from IPython.display import Image\n",
    "\n",
    "ee.Initialize()"
   ]
  },
  {
   "cell_type": "code",
   "execution_count": 15,
   "id": "d14a3124",
   "metadata": {
    "pycharm": {
     "name": "#%%\n"
    }
   },
   "outputs": [],
   "source": [
    "viridis = ['#440154', '#433982', '#30678D', '#218F8B', '#36B677', '#8ED542', '#FDE725']\n",
    "\n",
    "image_size = 768"
   ]
  },
  {
   "cell_type": "code",
   "execution_count": null,
   "id": "dfd32b31",
   "metadata": {
    "pycharm": {
     "name": "#%%\n"
    }
   },
   "outputs": [
    {
     "name": "stdout",
     "output_type": "stream",
     "text": [
      "p048r027\n",
      "  Keep: 19\n",
      "  Redo: 12\n",
      "p048r026\n",
      "  Keep: 21\n",
      "  Redo: 9\n",
      "p047r031\n",
      "  Keep: 47\n",
      "  Redo: 1\n",
      "p047r030\n",
      "  Keep: 41\n",
      "  Redo: 1\n",
      "p047r029\n",
      "  Keep: 37\n",
      "  Redo: 3\n",
      "p047r028\n",
      "  Keep: 31\n",
      "  Redo: 5\n",
      "p047r027\n",
      "  Keep: 12\n",
      "  Redo: 23\n",
      "p047r026\n",
      "  Keep: 22\n",
      "  Redo: 8\n",
      "p046r033\n",
      "  Keep: 51\n",
      "  Redo: 0\n",
      "p046r032\n",
      "  Keep: 35\n",
      "  Redo: 19\n",
      "p046r031\n",
      "  Keep: 22\n",
      "  Redo: 28\n",
      "p046r030\n",
      "  Keep: 23\n",
      "  Redo: 21\n",
      "p046r029\n",
      "  Keep: 23\n",
      "  Redo: 18\n",
      "p046r028\n",
      "  Keep: 17\n",
      "  Redo: 21\n",
      "p046r027\n",
      "  Keep: 14\n",
      "  Redo: 27\n",
      "p046r026\n",
      "  Keep: 13\n",
      "  Redo: 23\n",
      "p045r034\n",
      "  Keep: 58\n",
      "  Redo: 1\n",
      "p045r033\n",
      "  Keep: 73\n",
      "  Redo: 79\n",
      "p045r032\n",
      "  Keep: 9\n",
      "  Redo: 48\n",
      "p045r031\n",
      "  Keep: 17\n",
      "  Redo: 36\n",
      "p045r030\n",
      "  Keep: 24\n",
      "  Redo: 28\n",
      "p045r029\n"
     ]
    }
   ],
   "source": [
    "# Use the 10K Ta asset to identify scenes with ALEXI pixels that are 0\n",
    "#   since it should be a superset of the 1K and ET assets\n",
    "ta_coll_id = 'projects/earthengine-legacy/assets/projects/disalexi/ta/CONUS_V003_10K'\n",
    "\n",
    "alexi_coll_id = 'projects/disalexi/alexi/CONUS_V003'\n",
    "# alexi_info = ee.ImageCollection(alexi_coll_id).first().projection().getInfo()\n",
    "alexi_crs = 'EPSG:4326'\n",
    "alexi_geo = [0.04, 0, -125.04, 0, -0.04, 49.8]\n",
    "\n",
    "wrs2_list = ee.ImageCollection(ta_coll_id)\\\n",
    "    .aggregate_histogram('wrs2_tile').keys().getInfo()\n",
    "\n",
    "for wrs2 in sorted(wrs2_list, reverse=True):\n",
    "    print(f'{wrs2}')\n",
    "\n",
    "    scene_id_list = ee.ImageCollection(ta_coll_id)\\\n",
    "        .filterMetadata('wrs2_tile', 'equals', wrs2)\\\n",
    "        .aggregate_array('system:index')\\\n",
    "        .getInfo()\n",
    "    \n",
    "    keep_list = []\n",
    "    redo_list = []\n",
    "\n",
    "    for scene_id in scene_id_list:\n",
    "        image_id = f'{ta_coll_id}/{scene_id}'\n",
    "        image = ee.Image(image_id)\n",
    "\n",
    "        # Get the start and end date for filtering the ALEXI image collection\n",
    "        # start_date = ee.Date(image.get('system:time_start'))\n",
    "        # end_date = start_dt.advance(1, 'day')\n",
    "        start_dt = datetime.datetime.strptime(scene_id[-8:], '%Y%m%d')\n",
    "        end_dt = start_dt + datetime.timedelta(days=1)\n",
    "        start_date = start_dt.strftime('%Y-%m-%d')\n",
    "        end_date = end_dt.strftime('%Y-%m-%d')\n",
    "\n",
    "        # Get the corresponding ALEXI image\n",
    "        alexi_img = ee.ImageCollection(alexi_coll_id).filterDate(start_date, end_date).first()\n",
    "\n",
    "        # Mask the ALEXI image with the asset image\n",
    "        alexi_img = alexi_img.updateMask(image.select([0]).mask())\n",
    "\n",
    "        # Get the minimum value in the masked ALEXI image\n",
    "        # Reducing with the geometry probably isn't necessary since image is masked\n",
    "        # image_geom = image.geometry().bounds(1, 'EPSG:4326')\n",
    "        alexi_min = alexi_img\\\n",
    "            .reduceRegion(reducer=ee.Reducer.min(), \n",
    "                          # geometry=image_geom,         \n",
    "                          crs=alexi_crs, crsTransform=alexi_geo)\\\n",
    "            .getInfo()\n",
    "\n",
    "        if alexi_min['ET'] is not None and alexi_min['ET'] < 0.1:\n",
    "            # print(scene_id)\n",
    "            redo_list.append(scene_id)\n",
    "        else:\n",
    "            # print(scene_id)\n",
    "            keep_list.append(scene_id)\n",
    "            \n",
    "    print('  Keep: {}'.format(len(keep_list)))\n",
    "    print('  Redo: {}'.format(len(redo_list)))\n",
    "    \n",
    "print(', '.join(zero_scenes))\n",
    "print(len(zero_scenes))\n",
    "    \n",
    "    \n",
    "# CGM - Just some code for showing the ALEXI image\n",
    "# # print(image_region.getInfo())\n",
    "# image_url = alexi_img \\\n",
    "#     .getThumbURL({'min': 0, 'max': 10, 'palette': viridis, \n",
    "#                   'region': image_geom, 'dimensions': image_size})\n",
    "# print(image_url)\n",
    "# Image(url=image_url, embed=True, format='png')\n",
    "\n",
    "\n"
   ]
  },
  {
   "cell_type": "code",
   "execution_count": null,
   "id": "5a276a22",
   "metadata": {
    "pycharm": {
     "name": "#%%\n"
    }
   },
   "outputs": [],
   "source": []
  }
 ],
 "metadata": {
  "kernelspec": {
   "display_name": "Python 3",
   "language": "python",
   "name": "python3"
  },
  "language_info": {
   "codemirror_mode": {
    "name": "ipython",
    "version": 3
   },
   "file_extension": ".py",
   "mimetype": "text/x-python",
   "name": "python",
   "nbconvert_exporter": "python",
   "pygments_lexer": "ipython3",
   "version": "3.6.10"
  }
 },
 "nbformat": 4,
 "nbformat_minor": 5
}