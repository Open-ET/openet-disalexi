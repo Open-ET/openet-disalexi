{
 "cells": [
  {
   "cell_type": "code",
   "execution_count": 7,
   "metadata": {},
   "outputs": [],
   "source": [
    "import datetime\n",
    "\n",
    "import ee\n",
    "\n",
    "ee.Initialize()"
   ]
  },
  {
   "cell_type": "code",
   "execution_count": 8,
   "metadata": {},
   "outputs": [],
   "source": [
    "def date_range(start_dt, end_dt, days=1, skip_leap_days=True):\n",
    "    \"\"\"Generate dates within a range (inclusive)\n",
    "\n",
    "    Parameters\n",
    "    ----------\n",
    "    start_dt : datetime\n",
    "        start date.\n",
    "    end_dt : datetime\n",
    "        end date.\n",
    "    days : int, optional\n",
    "        Step size (the default is 1).\n",
    "    skip_leap_days : bool, optional\n",
    "        If True, skip leap days while incrementing (the default is True).\n",
    "\n",
    "    Yields\n",
    "    ------\n",
    "    datetime\n",
    "\n",
    "    \"\"\"\n",
    "    import copy\n",
    "    curr_dt = copy.copy(start_dt)\n",
    "    while curr_dt <= end_dt:\n",
    "        if not skip_leap_days or curr_dt.month != 2 or curr_dt.day != 29:\n",
    "            yield curr_dt\n",
    "        curr_dt += datetime.timedelta(days=days)"
   ]
  },
  {
   "cell_type": "code",
   "execution_count": 25,
   "metadata": {},
   "outputs": [
    {
     "name": "stdout",
     "output_type": "stream",
     "text": [
      "2017-07-15\n",
      "{'type': 'Image', 'bands': [{'id': 'et', 'data_type': {'type': 'PixelType', 'precision': 'float'}, 'dimensions': [1456, 625], 'crs': 'EPSG:4326', 'crs_transform': [0.04, 0.0, -125.04, 0.0, -0.04, 49.8]}], 'properties': {'ET_UNITS': 'MJ m-2 d-1', 'system:time_start': 1500076800000.0, 'DATE_UPDATED': '2019-04-30', 'ALEXI_VERSION': 1.0, 'system:index': '2017196', 'DATE_INGESTED': '2018-12-06'}}\n"
     ]
    }
   ],
   "source": [
    "start_dt = datetime.datetime(2017, 7, 15)\n",
    "end_dt = datetime.datetime(2017, 7, 17)\n",
    "overwrite_flag = False\n",
    "\n",
    "for export_dt in date_range(start_dt, end_dt, days=1, skip_leap_days=True):\n",
    "    print(export_dt.strftime('%Y-%m-%d'))\n",
    "    image_id = '{}'.format(export_dt.strftime('%Y%j'))\n",
    "    \n",
    "    asset_id = 'projects/disalexi/alexi/CONUS_V001_mod/{}'.format(image_id)\n",
    "    export_id = asset_id.replace('/', '_')\n",
    "    \n",
    "    input_img = ee.Image('projects/disalexi/alexi/CONUS_V001/{}'.format(image_id))\n",
    "    export_img = input_img.multiply(1.0).float().rename(['et'])\\\n",
    "        .set({\n",
    "            'system:time_start': input_img.get('system:time_start'),\n",
    "            'system:index': input_img.get('system:index'),\n",
    "            'ALEXI_VERSION': input_img.get('ALEXI_VERSION'),\n",
    "            'DATE_INGESTED': input_img.get('DATE_INGESTED'),\n",
    "            'DATE_UPDATED': datetime.datetime.today().strftime('%Y-%m-%d'),\n",
    "            'ET_UNITS': 'MJ m-2 d-1',\n",
    "        })\n",
    "    # print(export_img.getInfo())\n",
    "\n",
    "    export_crs = 'EPSG:4326'\n",
    "    export_geo = '[0.04, 0.0, -125.03, 0.0, -0.04, 49.79]'\n",
    "    export_shape = '1456x625'\n",
    "    # export_geo = '[0.04, 0.0, -125.04, 0.0, -0.04, 49.8]'\n",
    "    # export_geo = '[' + ','.join(list(map(str, export_geo))) + ']'\n",
    "    # export_shape = '{0}x{1}'.format(*export_shape)\n",
    "\n",
    "    try:\n",
    "        asset_info = ee.Image(asset_id).getInfo()\n",
    "        if overwrite_flag:\n",
    "            print('  Asset already exists, removing')\n",
    "            ee.data.deleteAsset(asset_id)\n",
    "        else:\n",
    "            print('  Asset already exists, skipping')\n",
    "            continue\n",
    "    except:\n",
    "        pass\n",
    "    \n",
    "    task = ee.batch.Export.image.toAsset(\n",
    "        image=export_img,\n",
    "        description=export_id,\n",
    "        assetId=asset_id,\n",
    "        crs=export_crs,\n",
    "        crsTransform=export_geo,\n",
    "        dimensions=export_shape,\n",
    "    )\n",
    "    \n",
    "    print('  Starting export task')\n",
    "    task.start()\n",
    "        \n",
    "    # break"
   ]
  },
  {
   "cell_type": "code",
   "execution_count": null,
   "metadata": {},
   "outputs": [],
   "source": []
  }
 ],
 "metadata": {
  "kernelspec": {
   "display_name": "Python 3",
   "language": "python",
   "name": "python3"
  },
  "language_info": {
   "codemirror_mode": {
    "name": "ipython",
    "version": 3
   },
   "file_extension": ".py",
   "mimetype": "text/x-python",
   "name": "python",
   "nbconvert_exporter": "python",
   "pygments_lexer": "ipython3",
   "version": "3.6.8"
  }
 },
 "nbformat": 4,
 "nbformat_minor": 2
}
