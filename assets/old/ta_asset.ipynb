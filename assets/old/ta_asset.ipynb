{
 "cells": [
  {
   "cell_type": "code",
   "execution_count": 1,
   "metadata": {
    "pycharm": {
     "name": "#%%\n"
    }
   },
   "outputs": [],
   "source": [
    "import datetime\n",
    "import math\n",
    "import pprint\n",
    "import time\n",
    "\n",
    "import ee\n",
    "from IPython.display import Image\n",
    "\n",
    "import openet\n",
    "import openet.disalexi.disalexi as disalexi\n",
    "import openet.disalexi.landsat as landsat\n",
    "import openet.disalexi.utils as utils\n",
    "\n",
    "ee.Initialize()"
   ]
  },
  {
   "cell_type": "markdown",
   "metadata": {
    "pycharm": {
     "name": "#%% md\n"
    }
   },
   "source": [
    "### ALEXI Grid Properties"
   ]
  },
  {
   "cell_type": "code",
   "execution_count": 2,
   "metadata": {
    "pycharm": {
     "name": "#%%\n"
    }
   },
   "outputs": [],
   "source": [
    "alexi_coll = ee.ImageCollection('projects/disalexi/alexi/CONUS')\n",
    "# print(ee.Image(alexi_coll.first()).projection().getInfo()['transform'])\n",
    "# print(ee.Image(alexi_coll.first()).projection().getInfo()['crs'])\n",
    "# print(ee.Image(alexi_coll.first()).getInfo()['bands'][0]['dimensions'])\n",
    "alexi_cs = 0.04\n",
    "alexi_geo = [0.04, 0.0, -125.04, 0.0, -0.04, 49.82]\n",
    "alexi_shape = [1456, 625]\n",
    "alexi_crs = 'EPSG:4326'\n",
    "alexi_extent = [\n",
    "    alexi_geo[2], alexi_geo[5] + alexi_geo[4] * alexi_shape[1], \n",
    "    alexi_geo[2] + alexi_geo[0] * alexi_shape[0], alexi_geo[5]]\n",
    "alexi_geo_str = '[' + ','.join(list(map(str, alexi_geo))) + ']'\n",
    "alexi_shape_str = '{0}x{1}'.format(*alexi_shape)\n",
    "# print(alexi_geo_str)\n",
    "# print(alexi_shape_str)"
   ]
  },
  {
   "cell_type": "markdown",
   "metadata": {
    "pycharm": {
     "name": "#%% md\n"
    }
   },
   "source": [
    "### Study Area Properties"
   ]
  },
  {
   "cell_type": "code",
   "execution_count": 3,
   "metadata": {
    "pycharm": {
     "name": "#%%\n"
    }
   },
   "outputs": [
    {
     "name": "stdout",
     "output_type": "stream",
     "text": [
      "[0.04,0.0,-123.04,0.0,-0.04,39.980000000000004]\n",
      "69x54\n",
      "0p040\n"
     ]
    }
   ],
   "source": [
    "output_crs = 'EPSG:4326'\n",
    "output_cs = 0.04   # ALEXI cellsize\n",
    "\n",
    "# # Study areas\n",
    "# output_extent = [-121.9, 38.8, -121.7, 38.9]  # Study Area\n",
    "# output_extent = [-122.0, 38.7, -121.6, 39.0]  # Study Area\n",
    "# output_extent = [-122.0, 38.0, -121.0, 39.0]  # 1 x 1 deg\n",
    "output_extent = [-123.01, 37.82, -120.31, 39.96]  # LC08_044033_20150711\n",
    "# output_extent = [-123, 35, -118.5, 40]  # Central Valley\n",
    "# output_extent = [-125, 32, -114, 42]  # California / Nevada\n",
    "# output_extent = [-125, 25, -65, 50]  # CONUS\n",
    "\n",
    "# Computed output transform, extent, and shape\n",
    "output_geom = ee.Geometry.Rectangle(output_extent, output_crs, False)\n",
    "output_region = output_geom.bounds(1, output_crs).coordinates().getInfo()[0][:-1]\n",
    "output_xmin = min(x for x, y in output_region)\n",
    "output_ymin = min(y for x, y in output_region)\n",
    "output_xmax = max(x for x, y in output_region)\n",
    "output_ymax = max(y for x, y in output_region)\n",
    "# Expand extent when snapping/aligning to ALEXI grid\n",
    "output_xmin = math.floor((output_xmin - alexi_extent[0]) / output_cs) * output_cs + alexi_extent[0]\n",
    "output_ymin = math.floor((output_ymin - alexi_extent[3]) / output_cs) * output_cs + alexi_extent[3]\n",
    "output_xmax = math.ceil((output_xmax - alexi_extent[0]) / output_cs) * output_cs + alexi_extent[0]\n",
    "output_ymax = math.ceil((output_ymax - alexi_extent[3]) / output_cs) * output_cs + alexi_extent[3]\n",
    "output_extent = [output_xmin, output_ymin, output_xmax, output_ymax]\n",
    "output_geo = [output_cs, 0.0, output_xmin, 0.0, -output_cs, output_ymax]\n",
    "\n",
    "# Convert to strings for export calls\n",
    "output_geo_str = '[' + ','.join(list(map(str, output_geo))) + ']'\n",
    "output_shape_str = '{0}x{1}'.format(\n",
    "    int(abs(output_extent[2] - output_extent[0]) / output_cs),\n",
    "    int(abs(output_extent[3] - output_extent[1]) / output_cs))\n",
    "output_cs_str = '{:0.3f}'.format(output_cs).replace('.', 'p')\n",
    "print(output_geo_str)\n",
    "print(output_shape_str)\n",
    "print(output_cs_str)"
   ]
  },
  {
   "cell_type": "markdown",
   "metadata": {
    "pycharm": {
     "name": "#%% md\n"
    }
   },
   "source": [
    "### Landsat Image, Collection, and Properties"
   ]
  },
  {
   "cell_type": "code",
   "execution_count": 4,
   "metadata": {
    "pycharm": {
     "name": "#%%\n"
    }
   },
   "outputs": [
    {
     "name": "stdout",
     "output_type": "stream",
     "text": [
      "EPSG:32610\n",
      "[30.0,0.0,499785.0,0.0,-30.0,4423215.0]\n",
      "7671x7791\n"
     ]
    }
   ],
   "source": [
    "landsat_coll_id = 'LANDSAT/LC08/C01/T1_SR'\n",
    "landsat_id = 'LC08_044033_20150711'\n",
    "landsat_img = ee.Image('LANDSAT/LC08/C01/T1_SR/LC08_044033_20150711')\n",
    "\n",
    "landsat_crs = landsat_img.select(['B2']).projection().getInfo()['crs']\n",
    "landsat_geo = landsat_img.select(['B2']).projection().getInfo()['transform']\n",
    "landsat_shape = landsat_img.select(['B2']).getInfo()['bands'][0]['dimensions']\n",
    "landsat_geo_str = '[' + ','.join(list(map(str, landsat_geo))) + ']'\n",
    "landsat_shape_str = '{0}x{1}'.format(*landsat_shape)\n",
    "print(landsat_crs)\n",
    "print(landsat_geo_str)\n",
    "print(landsat_shape_str)"
   ]
  },
  {
   "cell_type": "code",
   "execution_count": 5,
   "metadata": {
    "pycharm": {
     "name": "#%%\n"
    }
   },
   "outputs": [],
   "source": [
    "# Eventually try mapping the functions over a collection of images\n",
    "landsat_coll = ee.ImageCollection(landsat_coll_id) \\\n",
    "    .filterDate('2015-07-11', '2015-07-12') \\\n",
    "    .filterBounds(output_geom) \\\n",
    "    .filterMetadata('CLOUD_COVER_LAND', 'less_than', 70)\n",
    "    # .filterMetadata('WRS_PATH', 'equals', 44) \\\n",
    "    # .filterMetadata('WRS_ROW', 'not_greater_than', 34) \\\n",
    "    # .filterMetadata('WRS_ROW', 'not_less_than', 33) \\\n",
    "# pprint.pprint(list(landsat_coll.aggregate_histogram('system:index').getInfo().keys()))"
   ]
  },
  {
   "cell_type": "markdown",
   "metadata": {
    "pycharm": {
     "name": "#%% md\n"
    }
   },
   "source": [
    "### Ta Function"
   ]
  },
  {
   "cell_type": "code",
   "execution_count": 6,
   "metadata": {
    "pycharm": {
     "name": "#%%\n"
    }
   },
   "outputs": [],
   "source": [
    "def get_affine_transform(image):\n",
    "    return ee.List(ee.Dictionary(ee.Algorithms.Describe(image.projection())).get('transform'))\n",
    "\n",
    "def ta_landsat_func(l_img):\n",
    "    \"\"\"Compute air temperature at the Landsat scale (don't aggregate)\"\"\"\n",
    "    input_img = ee.Image(landsat.Landsat(l_img).prep())\n",
    "\n",
    "    # Use the CONUS ALEXI ET but the global landcover and elevation products\n",
    "    d_obj = disalexi.Image(\n",
    "        input_img, \n",
    "        iterations=10,\n",
    "        elevation=ee.Image('USGS/SRTMGL1_003').rename(['elevation']),\n",
    "        landcover=ee.Image(ee.ImageCollection('users/cgmorton/GlobeLand30')\n",
    "                               .filterBounds(l_img.geometry().bounds(1)).mosaic()) \\\n",
    "            .divide(10).floor().multiply(10).rename(['landcover']),\n",
    "        lc_type='GLOBELAND30',\n",
    "        tair_values=list(range(273, 321, 1)),\n",
    "    )\n",
    "\n",
    "    return d_obj.compute_ta()\n",
    "\n",
    "    # return d_obj.compute_ta().reproject(\n",
    "    #     crs=landsat_img.select(['B2']).projection().crs(), \n",
    "    #     crsTransform=get_affine_transform(landsat_img.select(['B2'])))\n",
    "    \n",
    "    \n",
    "def ta_coarse_func(l_img):\n",
    "    \"\"\"Compute air temperature averaged/aggregated to the ALEXI grid\"\"\"\n",
    "    input_img = ee.Image(landsat.Landsat(l_img).prep())\n",
    "\n",
    "    # Use the CONUS ALEXI ET but the global landcover and elevation products\n",
    "    d_obj = disalexi.Image(\n",
    "        input_img, \n",
    "        iterations=10,\n",
    "        elevation=ee.Image('USGS/SRTMGL1_003').rename(['elevation']),\n",
    "        landcover=ee.Image(ee.ImageCollection('users/cgmorton/GlobeLand30')\n",
    "                           .filterBounds(l_img.geometry().bounds(1)).mosaic()) \\\n",
    "            .divide(10).floor().multiply(10).rename(['landcover']),\n",
    "        lc_type='GLOBELAND30',\n",
    "        tair_values=list(range(273, 321, 1)),\n",
    "    )\n",
    "    \n",
    "    # Was testing to see if setting the crsTransform in the reproject helped (it didn't)\n",
    "    landsat_crs = landsat_img.select(['B2']).projection().crs()\n",
    "    # landsat_geo = get_affine_transform(l_img.select(['B2']))\n",
    "    # .reproject(crs=landsat_crs, crsTransform=landsat_geo)\\\n",
    "    \n",
    "    return d_obj.compute_ta()\\\n",
    "        .reproject(crs=landsat_crs, scale=30)\\\n",
    "        .reduceResolution(reducer=ee.Reducer.mean(), maxPixels=65535) \\\n",
    "        .reproject(crs=output_crs, crsTransform=output_geo) \\\n",
    "        .updateMask(1)"
   ]
  },
  {
   "cell_type": "markdown",
   "metadata": {
    "pycharm": {
     "name": "#%% md\n"
    }
   },
   "source": [
    "### Ta Export - Aggregated/averaged to ALEXI grid\n",
    "\n",
    "Export the aggregated air temperature asset.  This fails with an internal error."
   ]
  },
  {
   "cell_type": "code",
   "execution_count": 7,
   "metadata": {
    "pycharm": {
     "name": "#%%\n"
    }
   },
   "outputs": [],
   "source": [
    "export_id = 'LC08_044033_20150711'\n",
    "export_img = ee.Image('{}/{}'.format('LANDSAT/LC08/C01/T1_SR', export_id))\n",
    "\n",
    "asset_id = '{coll}/{image}_{cs}'.format(coll='projects/disalexi/ta/CONUS', image=export_id, cs=output_cs_str)\n",
    "task_id = 'disalexi_tair_coarse_{image}_{cs}'.format(image=export_id, cs=output_cs_str)\n",
    "ta_coarse_img = ta_coarse_func(export_img)\\\n",
    "    .setMulti({\n",
    "        'DATE_INGESTED': datetime.datetime.now().strftime('%Y-%m-%d'),\n",
    "        'DISALEXI_VERSION': openet.disalexi.__version__,\n",
    "        'DATE': ee.Date(export_img.get('system:time_start')).format('YYYY-mm-dd'),\n",
    "    })\n",
    "\n",
    "task = ee.batch.Export.image.toAsset(\n",
    "    image=ee.Image(ta_coarse_img).toFloat(),\n",
    "    description=task_id,\n",
    "    assetId=asset_id,\n",
    "    crs=output_crs,\n",
    "    crsTransform=output_geo_str,\n",
    "    dimensions=output_shape_str,\n",
    ")\n",
    "# task.start()\n",
    "# time.sleep(1)\n",
    "# print(task.status())"
   ]
  },
  {
   "cell_type": "markdown",
   "metadata": {
    "pycharm": {
     "name": "#%% md\n"
    }
   },
   "source": [
    "### Ta Export - Landsat Scale (30 or 60m)\n",
    "\n",
    "Export the Landsat scale air temperature asset.  This completes successfully for 30 or 60m cellsize."
   ]
  },
  {
   "cell_type": "code",
   "execution_count": 8,
   "metadata": {
    "pycharm": {
     "name": "#%%\n"
    }
   },
   "outputs": [],
   "source": [
    "export_id = 'LC08_044033_20150711'\n",
    "export_img = ee.Image('{}/{}'.format('LANDSAT/LC08/C01/T1_SR', export_id))\n",
    "\n",
    "# Switch output cellsize to 60m\n",
    "export_cs = 30\n",
    "export_crs = export_img.select(['B2']).projection().getInfo()['crs']\n",
    "export_geo = export_img.select(['B2']).projection().getInfo()['transform']\n",
    "export_geo[0] = export_cs\n",
    "export_geo[4] = -export_cs\n",
    "export_shape = export_img.select(['B2']).getInfo()['bands'][0]['dimensions']\n",
    "export_shape[0] = int(export_shape[0] / (export_cs / 30) + 0.5)\n",
    "export_shape[1] = int(export_shape[1] / (export_cs / 30) + 0.5)\n",
    "# print(export_crs)\n",
    "# print(export_geo)\n",
    "# print(export_shape)\n",
    "\n",
    "asset_id = '{coll}_{cs}m/{image}'.format(\n",
    "    coll='projects/disalexi/ta/landsat', image=export_id, cs=export_cs)\n",
    "task_id = 'disalexi_tair_landsat_{image}_{cs}m'.format(image=export_id, cs=export_cs)\n",
    "\n",
    "ta_landsat_img = ta_landsat_func(export_img)\\\n",
    "    .setMulti({\n",
    "        'DATE_INGESTED': datetime.datetime.now().strftime('%Y-%m-%d'),\n",
    "        'DISALEXI_VERSION': openet.disalexi.__version__,\n",
    "        'DATE': ee.Date(export_img.get('system:time_start')).format('YYYY-mm-dd'),\n",
    "    })\n",
    "task = ee.batch.Export.image.toAsset(\n",
    "    image=ee.Image(ta_landsat_img).toFloat(),\n",
    "    description=task_id,\n",
    "    assetId=asset_id,\n",
    "    crs=export_crs,\n",
    "    crsTransform='[' + ','.join(list(map(str, export_geo))) + ']',\n",
    "    dimensions='{0}x{1}'.format(*export_shape),\n",
    ")\n",
    "# task.start()\n",
    "# time.sleep(1)\n",
    "# print(task.status())"
   ]
  },
  {
   "cell_type": "markdown",
   "metadata": {
    "pycharm": {
     "name": "#%% md\n"
    }
   },
   "source": [
    "### Ta Export - Mosaiced Landsat Images (for one WRS path, date, UTM zone)\n",
    "\n",
    "Start with a small mosaic that is only 2 or 3 images in the same path.  Eventually the exports may need to be for all images in the path or by path and UTM zone."
   ]
  },
  {
   "cell_type": "code",
   "execution_count": 9,
   "metadata": {
    "pycharm": {
     "name": "#%%\n"
    }
   },
   "outputs": [],
   "source": [
    "# export_id = 'LC08_044033_20150711'\n",
    "# export_img = ee.Image('{}/{}'.format(l8_coll_id, export_id))\n",
    "\n",
    "# Try calling the function for a mosaiced a collection of images in the same UTM zone, WRS Path, and date\n",
    "export_coll = ee.ImageCollection('LANDSAT/LC08/C01/T1_SR') \\\n",
    "    .filterDate('2015-07-11', '2015-07-12') \\\n",
    "    .filterMetadata('WRS_PATH', 'equals', 44) \\\n",
    "    .filterMetadata('WRS_ROW', 'not_greater_than', 34) \\\n",
    "    .filterMetadata('WRS_ROW', 'not_less_than', 33) \\\n",
    "    .filterMetadata('CLOUD_COVER_LAND', 'less_than', 70)\n",
    "# print(export_coll.aggregate_histogram('system:index').getInfo())\n",
    "\n",
    "export_id = '20150711_p044'\n",
    "export_img = landsat_coll.mean()\\\n",
    "    .set('system:time_start', ee.Date.fromYMD(2015, 7, 11).millis())\n",
    "landsat_crs = 'EPSG:32610'\n",
    "landsat_cs = 60\n",
    "\n",
    "def ta_func(l_img):\n",
    "    input_img = ee.Image(landsat.Landsat(l_img).prep())\n",
    "\n",
    "    # Use the CONUS ALEXI ET but the global landcover and elevation products\n",
    "    d_obj = disalexi.Image(\n",
    "        input_img, \n",
    "        iterations=10,\n",
    "        elevation=ee.Image('USGS/SRTMGL1_003').rename(['elevation']),\n",
    "        landcover=ee.Image(ee.ImageCollection('users/cgmorton/GlobeLand30')\n",
    "                           .filterBounds(l_img.geometry().bounds(1)).mosaic()) \\\n",
    "            .divide(10).floor().multiply(10).rename(['landcover']),\n",
    "        lc_type='GLOBELAND30',\n",
    "        tair_values=list(range(273, 321, 1)),\n",
    "    )\n",
    "    \n",
    "    return d_obj.compute_ta()\n",
    "    #     .reproject(crs=landsat_img.select(['B2']).projection().crs(), scale=landsat_cs)\\\n",
    "    #     .reduceResolution(reducer=ee.Reducer.mean(), maxPixels=65535) \\\n",
    "    #     .reproject(crs=output_crs, crsTransform=output_geo) \\\n",
    "    #     .updateMask(1)\n",
    "\n",
    "asset_id = '{coll}_{cs}m/{image}'.format(\n",
    "    coll='projects/disalexi/ta/landsat', image=export_id, cs=export_cs)\n",
    "task_id = 'disalexi_tair_landsat_{image}_{cs}m'.format(image=export_id, cs=export_cs)\n",
    "\n",
    "ta_landsat_img = ta_landsat_func(export_img)\\\n",
    "    .setMulti({\n",
    "        'DATE_INGESTED': datetime.datetime.now().strftime('%Y-%m-%d'),\n",
    "        'DISALEXI_VERSION': openet.disalexi.__version__,\n",
    "        'DATE': ee.Date(export_img.get('system:time_start')).format('YYYY-mm-dd'),\n",
    "    })\n",
    "task = ee.batch.Export.image.toAsset(\n",
    "    image=ee.Image(ta_landsat_img).toFloat(),\n",
    "    description=task_id,\n",
    "    assetId=asset_id,\n",
    "    crs=landsat_crs,\n",
    "    scale=30\n",
    "    # crsTransform='[' + ','.join(list(map(str, export_geo))) + ']',\n",
    "    # dimensions='{0}x{1}'.format(*export_shape),\n",
    ")\n",
    "# task.start()\n",
    "# time.sleep(1)\n",
    "# print(task.status())"
   ]
  },
  {
   "cell_type": "markdown",
   "metadata": {
    "pycharm": {
     "name": "#%% md\n"
    }
   },
   "source": [
    "### Thumbnails"
   ]
  },
  {
   "cell_type": "code",
   "execution_count": 10,
   "metadata": {
    "pycharm": {
     "name": "#%%\n"
    }
   },
   "outputs": [],
   "source": [
    "# # thumbnail_crs = 'EPSG:4326'\n",
    "# # thumbnail_cs = 0.005\n",
    "# thumbnail_crs = 'EPSG:32610'\n",
    "# thumbnail_cs = 120\n",
    "# thumbnail_xy = output_geom.bounds(1, thumbnail_crs).coordinates().getInfo()[0]\n",
    "# thumbnail_xmin = int(min(x for x, y in thumbnail_xy) / thumbnail_cs) * thumbnail_cs\n",
    "# thumbnail_ymin = int(min(y for x, y in thumbnail_xy) / thumbnail_cs) * thumbnail_cs\n",
    "# thumbnail_xmax = int(max(x for x, y in thumbnail_xy) / thumbnail_cs) * thumbnail_cs + thumbnail_cs\n",
    "# thumbnail_ymax = int(max(y for x, y in thumbnail_xy) / thumbnail_cs) * thumbnail_cs + thumbnail_cs\n",
    "# thumbnail_geo = [thumbnail_cs, 0.0, thumbnail_xmin, 0.0, thumbnail_cs, thumbnail_ymax]\n",
    "# thumnbail_region = [[], [], [], []]\n",
    "# thumbnail_shape_str = '{0}x{1}'.format(\n",
    "#     int(abs(thumbnail_xmax - thumbnail_xmin) / thumbnail_cs),\n",
    "#     int(abs(thumbnail_ymax - thumbnail_ymin) / thumbnail_cs))\n",
    "# print(thumbnail_crs)\n",
    "# print(thumbnail_geo)\n",
    "# print(thumbnail_shape_str)"
   ]
  },
  {
   "cell_type": "code",
   "execution_count": 11,
   "metadata": {
    "pycharm": {
     "name": "#%%\n"
    }
   },
   "outputs": [],
   "source": [
    "# landsat_url = landsat_img.select(['B4', 'B3', 'B2'])\\\n",
    "#     .reproject(crs=thumbnail_crs, crsTransform=thumbnail_geo)\\\n",
    "#     .getThumbURL({'region': output_region, 'min': 0, 'max': 0.30})\n",
    "# # print(landsat_url)\n",
    "# Image(url=landsat_url, embed=True, format='png')"
   ]
  },
  {
   "cell_type": "code",
   "execution_count": 12,
   "metadata": {
    "pycharm": {
     "name": "#%%\n"
    }
   },
   "outputs": [],
   "source": [
    "# landsat_url = landsat_coll.filterDate('2015-07-11', '2015-07-12')\\\n",
    "#     .median().select(['B4', 'B3', 'B2'])\\\n",
    "#     .reproject(crs=thumbnail_crs, crsTransform=thumbnail_geo)\\\n",
    "#     .getThumbURL({'region': output_region, 'min': 0, 'max': 0.30})\n",
    "# # print(landsat_url)\n",
    "# Image(url=landsat_url, embed=True, format='png')"
   ]
  },
  {
   "cell_type": "code",
   "execution_count": 13,
   "metadata": {
    "pycharm": {
     "name": "#%%\n"
    }
   },
   "outputs": [],
   "source": [
    "# landsat_url = landsat_coll.filterDate('2015-07-11', '2015-07-12')\\\n",
    "#       .mean().select(['B4', 'B3', 'B2'])\\\n",
    "#       .reproject(crs=output_crs, crsTransform=output_geo)\\\n",
    "#       .getThumbURL({'region': output_region, 'min': 0, 'max': 0.30})\n",
    "#     # print(landsat_url)\n",
    "# Image(url=landsat_url, embed=True, format='png')"
   ]
  },
  {
   "cell_type": "markdown",
   "metadata": {
    "pycharm": {
     "name": "#%% md\n"
    }
   },
   "source": [
    "### Ta Image"
   ]
  },
  {
   "cell_type": "code",
   "execution_count": 14,
   "metadata": {
    "pycharm": {
     "name": "#%%\n"
    }
   },
   "outputs": [],
   "source": [
    "# ta_landsat_url = ta_landsat_func(landsat_img)\\\n",
    "#     .reproject(crs=thumbnail_crs, crsTransform=thumbnail_geo)\\\n",
    "#     .getThumbURL({\n",
    "#         'region': output_region, 'min': 273, 'max': 325, \n",
    "#         'palette': ','.join(['FF0000', 'FFFF00', '00FFFF', '0000FF'])})\n",
    "# print(ta_landsat_url)\n",
    "# Image(url=ta_landsat_url, embed=True, format='png')"
   ]
  },
  {
   "cell_type": "code",
   "execution_count": 15,
   "metadata": {
    "pycharm": {
     "name": "#%%\n"
    }
   },
   "outputs": [],
   "source": [
    "# ta_coarse_url = ta_coarse_func(landsat_img)\\\n",
    "#     .reproject(crs=thumbnail_crs, crsTransform=thumbnail_geo)\\\n",
    "#     .getThumbURL({'region': output_region, 'min': 273, 'max': 325, \n",
    "#                   'palette': ','.join(['FF0000', 'FFFF00', '00FFFF', '0000FF'])})\n",
    "# print(ta_coarse_url)\n",
    "# Image(url=ta_coarse_url, embed=True, format='png')"
   ]
  },
  {
   "cell_type": "code",
   "execution_count": null,
   "metadata": {
    "pycharm": {
     "name": "#%%\n"
    }
   },
   "outputs": [],
   "source": []
  }
 ],
 "metadata": {
  "kernelspec": {
   "display_name": "Python 3",
   "language": "python",
   "name": "python3"
  },
  "language_info": {
   "codemirror_mode": {
    "name": "ipython",
    "version": 3
   },
   "file_extension": ".py",
   "mimetype": "text/x-python",
   "name": "python",
   "nbconvert_exporter": "python",
   "pygments_lexer": "ipython3",
   "version": "3.6.6"
  },
  "pycharm": {
   "stem_cell": {
    "cell_type": "raw",
    "source": [],
    "metadata": {
     "collapsed": false
    }
   }
  }
 },
 "nbformat": 4,
 "nbformat_minor": 2
}